{
  "cells": [
    {
      "cell_type": "code",
      "source": [
        "#Connecting to google drive\n",
        "from google.colab import drive\n",
        "import numpy as np\n",
        "drive.mount('/content/drive')"
      ],
      "metadata": {
        "colab": {
          "base_uri": "https://localhost:8080/"
        },
        "id": "fkbKkk29Ngt2",
        "outputId": "de0a9580-0168-4e6a-e171-b52ca3325945"
      },
      "execution_count": 1,
      "outputs": [
        {
          "output_type": "stream",
          "name": "stdout",
          "text": [
            "Mounted at /content/drive\n"
          ]
        }
      ]
    },
    {
      "cell_type": "code",
      "execution_count": 2,
      "metadata": {
        "colab": {
          "base_uri": "https://localhost:8080/",
          "height": 74
        },
        "id": "PHVr_lq2ZW8J",
        "outputId": "cf76317a-862f-470f-b010-7b143961ab89"
      },
      "outputs": [
        {
          "output_type": "display_data",
          "data": {
            "text/plain": [
              "<IPython.core.display.HTML object>"
            ],
            "text/html": [
              "\n",
              "     <input type=\"file\" id=\"files-7aa9971b-9ee2-4a0b-b122-ef95d2fe13ed\" name=\"files[]\" multiple disabled\n",
              "        style=\"border:none\" />\n",
              "     <output id=\"result-7aa9971b-9ee2-4a0b-b122-ef95d2fe13ed\">\n",
              "      Upload widget is only available when the cell has been executed in the\n",
              "      current browser session. Please rerun this cell to enable.\n",
              "      </output>\n",
              "      <script>// Copyright 2017 Google LLC\n",
              "//\n",
              "// Licensed under the Apache License, Version 2.0 (the \"License\");\n",
              "// you may not use this file except in compliance with the License.\n",
              "// You may obtain a copy of the License at\n",
              "//\n",
              "//      http://www.apache.org/licenses/LICENSE-2.0\n",
              "//\n",
              "// Unless required by applicable law or agreed to in writing, software\n",
              "// distributed under the License is distributed on an \"AS IS\" BASIS,\n",
              "// WITHOUT WARRANTIES OR CONDITIONS OF ANY KIND, either express or implied.\n",
              "// See the License for the specific language governing permissions and\n",
              "// limitations under the License.\n",
              "\n",
              "/**\n",
              " * @fileoverview Helpers for google.colab Python module.\n",
              " */\n",
              "(function(scope) {\n",
              "function span(text, styleAttributes = {}) {\n",
              "  const element = document.createElement('span');\n",
              "  element.textContent = text;\n",
              "  for (const key of Object.keys(styleAttributes)) {\n",
              "    element.style[key] = styleAttributes[key];\n",
              "  }\n",
              "  return element;\n",
              "}\n",
              "\n",
              "// Max number of bytes which will be uploaded at a time.\n",
              "const MAX_PAYLOAD_SIZE = 100 * 1024;\n",
              "\n",
              "function _uploadFiles(inputId, outputId) {\n",
              "  const steps = uploadFilesStep(inputId, outputId);\n",
              "  const outputElement = document.getElementById(outputId);\n",
              "  // Cache steps on the outputElement to make it available for the next call\n",
              "  // to uploadFilesContinue from Python.\n",
              "  outputElement.steps = steps;\n",
              "\n",
              "  return _uploadFilesContinue(outputId);\n",
              "}\n",
              "\n",
              "// This is roughly an async generator (not supported in the browser yet),\n",
              "// where there are multiple asynchronous steps and the Python side is going\n",
              "// to poll for completion of each step.\n",
              "// This uses a Promise to block the python side on completion of each step,\n",
              "// then passes the result of the previous step as the input to the next step.\n",
              "function _uploadFilesContinue(outputId) {\n",
              "  const outputElement = document.getElementById(outputId);\n",
              "  const steps = outputElement.steps;\n",
              "\n",
              "  const next = steps.next(outputElement.lastPromiseValue);\n",
              "  return Promise.resolve(next.value.promise).then((value) => {\n",
              "    // Cache the last promise value to make it available to the next\n",
              "    // step of the generator.\n",
              "    outputElement.lastPromiseValue = value;\n",
              "    return next.value.response;\n",
              "  });\n",
              "}\n",
              "\n",
              "/**\n",
              " * Generator function which is called between each async step of the upload\n",
              " * process.\n",
              " * @param {string} inputId Element ID of the input file picker element.\n",
              " * @param {string} outputId Element ID of the output display.\n",
              " * @return {!Iterable<!Object>} Iterable of next steps.\n",
              " */\n",
              "function* uploadFilesStep(inputId, outputId) {\n",
              "  const inputElement = document.getElementById(inputId);\n",
              "  inputElement.disabled = false;\n",
              "\n",
              "  const outputElement = document.getElementById(outputId);\n",
              "  outputElement.innerHTML = '';\n",
              "\n",
              "  const pickedPromise = new Promise((resolve) => {\n",
              "    inputElement.addEventListener('change', (e) => {\n",
              "      resolve(e.target.files);\n",
              "    });\n",
              "  });\n",
              "\n",
              "  const cancel = document.createElement('button');\n",
              "  inputElement.parentElement.appendChild(cancel);\n",
              "  cancel.textContent = 'Cancel upload';\n",
              "  const cancelPromise = new Promise((resolve) => {\n",
              "    cancel.onclick = () => {\n",
              "      resolve(null);\n",
              "    };\n",
              "  });\n",
              "\n",
              "  // Wait for the user to pick the files.\n",
              "  const files = yield {\n",
              "    promise: Promise.race([pickedPromise, cancelPromise]),\n",
              "    response: {\n",
              "      action: 'starting',\n",
              "    }\n",
              "  };\n",
              "\n",
              "  cancel.remove();\n",
              "\n",
              "  // Disable the input element since further picks are not allowed.\n",
              "  inputElement.disabled = true;\n",
              "\n",
              "  if (!files) {\n",
              "    return {\n",
              "      response: {\n",
              "        action: 'complete',\n",
              "      }\n",
              "    };\n",
              "  }\n",
              "\n",
              "  for (const file of files) {\n",
              "    const li = document.createElement('li');\n",
              "    li.append(span(file.name, {fontWeight: 'bold'}));\n",
              "    li.append(span(\n",
              "        `(${file.type || 'n/a'}) - ${file.size} bytes, ` +\n",
              "        `last modified: ${\n",
              "            file.lastModifiedDate ? file.lastModifiedDate.toLocaleDateString() :\n",
              "                                    'n/a'} - `));\n",
              "    const percent = span('0% done');\n",
              "    li.appendChild(percent);\n",
              "\n",
              "    outputElement.appendChild(li);\n",
              "\n",
              "    const fileDataPromise = new Promise((resolve) => {\n",
              "      const reader = new FileReader();\n",
              "      reader.onload = (e) => {\n",
              "        resolve(e.target.result);\n",
              "      };\n",
              "      reader.readAsArrayBuffer(file);\n",
              "    });\n",
              "    // Wait for the data to be ready.\n",
              "    let fileData = yield {\n",
              "      promise: fileDataPromise,\n",
              "      response: {\n",
              "        action: 'continue',\n",
              "      }\n",
              "    };\n",
              "\n",
              "    // Use a chunked sending to avoid message size limits. See b/62115660.\n",
              "    let position = 0;\n",
              "    do {\n",
              "      const length = Math.min(fileData.byteLength - position, MAX_PAYLOAD_SIZE);\n",
              "      const chunk = new Uint8Array(fileData, position, length);\n",
              "      position += length;\n",
              "\n",
              "      const base64 = btoa(String.fromCharCode.apply(null, chunk));\n",
              "      yield {\n",
              "        response: {\n",
              "          action: 'append',\n",
              "          file: file.name,\n",
              "          data: base64,\n",
              "        },\n",
              "      };\n",
              "\n",
              "      let percentDone = fileData.byteLength === 0 ?\n",
              "          100 :\n",
              "          Math.round((position / fileData.byteLength) * 100);\n",
              "      percent.textContent = `${percentDone}% done`;\n",
              "\n",
              "    } while (position < fileData.byteLength);\n",
              "  }\n",
              "\n",
              "  // All done.\n",
              "  yield {\n",
              "    response: {\n",
              "      action: 'complete',\n",
              "    }\n",
              "  };\n",
              "}\n",
              "\n",
              "scope.google = scope.google || {};\n",
              "scope.google.colab = scope.google.colab || {};\n",
              "scope.google.colab._files = {\n",
              "  _uploadFiles,\n",
              "  _uploadFilesContinue,\n",
              "};\n",
              "})(self);\n",
              "</script> "
            ]
          },
          "metadata": {}
        },
        {
          "output_type": "stream",
          "name": "stdout",
          "text": [
            "Saving bloodmnist.npz to bloodmnist.npz\n"
          ]
        }
      ],
      "source": [
        "#Uploading our BloodMNIST Dataset from local computer\n",
        "from google.colab import files\n",
        "uploaded = files.upload()"
      ]
    },
    {
      "cell_type": "code",
      "execution_count": 3,
      "metadata": {
        "id": "_x9vsYa6Zacs"
      },
      "outputs": [],
      "source": [
        "#Libraries to load and display dataset\n",
        "import numpy as np\n",
        "import pandas as pd\n",
        "import keras\n",
        "import tensorflow as tf\n",
        "import matplotlib.pyplot as plt\n",
        "from keras.utils import np_utils\n",
        "from skimage.util import montage\n",
        "\n",
        "#libraries to build our neural netwrok model\n",
        "from keras.models import Sequential\n",
        "from keras.layers import Dense, Dropout, Flatten\n",
        "from keras.layers.convolutional import Conv2D, MaxPooling2D\n",
        "from keras import backend as k\n",
        "\n",
        "#librariy to augment our dataset images\n",
        "from keras.preprocessing.image import ImageDataGenerator\n",
        "\n",
        "#libraries to calculate evalution scores of our model\n",
        "from sklearn.metrics import confusion_matrix\n",
        "from sklearn.metrics import balanced_accuracy_score\n",
        "from sklearn.metrics import precision_score\n",
        "from sklearn.metrics import recall_score\n",
        "from sklearn.metrics import f1_score\n",
        "\n",
        "#to display our images and run eagerly our nueral model\n",
        "%matplotlib inline \n",
        "tf.config.run_functions_eagerly(True)"
      ]
    },
    {
      "cell_type": "code",
      "execution_count": 4,
      "metadata": {
        "colab": {
          "base_uri": "https://localhost:8080/"
        },
        "id": "ZF-9AaLZbf6G",
        "outputId": "f05dcfda-15be-44f5-da08-956514acc146"
      },
      "outputs": [
        {
          "output_type": "stream",
          "name": "stdout",
          "text": [
            "train_images\n",
            "train_labels\n",
            "val_images\n",
            "val_labels\n",
            "test_images\n",
            "test_labels\n"
          ]
        },
        {
          "output_type": "stream",
          "name": "stderr",
          "text": [
            "<ipython-input-4-48109ff3c2b4>:5: DeprecationWarning: NpzFile.iterkeys is deprecated in python 3, to match the removal of dict.iterkeys. Use .keys() instead.\n",
            "  for i in blood_dataset.iterkeys():\n"
          ]
        }
      ],
      "source": [
        "#Loading our dataset\n",
        "blood_dataset = np.load(\"bloodmnist.npz\")\n",
        "\n",
        "#iterating on our dataset to see the keys\n",
        "for i in blood_dataset.iterkeys():\n",
        "  print(i)"
      ]
    },
    {
      "cell_type": "code",
      "execution_count": 5,
      "metadata": {
        "id": "oOMF7HZtblMp"
      },
      "outputs": [],
      "source": [
        "#Storing our values from the keys of the dictionary to a variable\n",
        "x_train_blood_cnn = blood_dataset['train_images']\n",
        "x_test_blood_cnn = blood_dataset['test_images']\n",
        "y_train_blood_cnn = blood_dataset['train_labels']\n",
        "y_test_blood_cnn = blood_dataset['test_labels']\n",
        "val_images_blood_cnn = blood_dataset['val_images']\n",
        "val_labels_blood_cnn = blood_dataset['val_labels']"
      ]
    },
    {
      "cell_type": "code",
      "execution_count": 6,
      "metadata": {
        "colab": {
          "base_uri": "https://localhost:8080/",
          "height": 269
        },
        "id": "jZ2Q9tJ_bnmW",
        "outputId": "a8330033-e436-46a1-d6d8-d4c41b111311"
      },
      "outputs": [
        {
          "output_type": "display_data",
          "data": {
            "text/plain": [
              "<Figure size 432x288 with 1 Axes>"
            ],
            "image/png": "[encoded data removed]"
          },
          "metadata": {
            "needs_background": "light"
          }
        }
      ],
      "source": [
        "#Visualising our dataset using montage function\n",
        "blood_dataset_montage = montage(x_train_blood_cnn[0])\n",
        "plt.imshow(blood_dataset_montage)\n",
        "plt.show()"
      ]
    },
    {
      "cell_type": "code",
      "source": [
        "#Visualising Images and Classes\n",
        "from numpy.ma.extras import column_stack\n",
        "display_images = x_train_blood_cnn  \n",
        "display_labels = y_train_blood_cnn  \n",
        "\n",
        "# Define the number of rows and columns for displaying images\n",
        "rows = 4\n",
        "cols = 4\n",
        "num_images = rows * cols\n",
        "\n",
        "# Create a figure object with specified size and display the images\n",
        "fig, axes = plt.subplots(rows, cols, figsize=(10, 10))\n",
        "for i, ax in enumerate(axes.flat):\n",
        "    if i < num_images:\n",
        "        ax.imshow(display_images[i])\n",
        "        ax.set_xticks([])\n",
        "        ax.set_yticks([])\n",
        "        ax.set_title(f'Image Class Label: {display_labels[i]}')\n",
        "    else:\n",
        "        ax.axis('off')\n",
        "plt.tight_layout()\n",
        "plt.show()"
      ],
      "metadata": {
        "colab": {
          "base_uri": "https://localhost:8080/",
          "height": 729
        },
        "id": "sNyBRotY4yXY",
        "outputId": "89471418-629a-41d9-88cd-960d39380eba"
      },
      "execution_count": 7,
      "outputs": [
        {
          "output_type": "display_data",
          "data": {
            "text/plain": [
              "<Figure size 720x720 with 16 Axes>"
            ],
            "image/png": "[encoded data removed]"
          },
          "metadata": {}
        }
      ]
    },
    {
      "cell_type": "code",
      "execution_count": 8,
      "metadata": {
        "colab": {
          "base_uri": "https://localhost:8080/"
        },
        "id": "LykFftn8clfg",
        "outputId": "1d671f6e-2562-4cf7-ad8b-a3376d276b24"
      },
      "outputs": [
        {
          "output_type": "stream",
          "name": "stdout",
          "text": [
            "(11959, 28, 28, 3)\n",
            "(3421, 28, 28, 3)\n",
            "(11959, 1)\n",
            "(3421, 1)\n"
          ]
        }
      ],
      "source": [
        "#checking the shape of our data.\n",
        "print(x_train_blood_cnn.shape)\n",
        "print(x_test_blood_cnn.shape)\n",
        "print(y_train_blood_cnn.shape)\n",
        "print(y_test_blood_cnn.shape)"
      ]
    },
    {
      "cell_type": "code",
      "execution_count": 9,
      "metadata": {
        "id": "Y4F268kNgEvL"
      },
      "outputs": [],
      "source": [
        "#transforming our data into float\n",
        "x_train_blood_cnn = x_train_blood_cnn.astype('float32')\n",
        "x_test_blood_cnn = x_test_blood_cnn.astype('float32')\n",
        "val_images_blood_cnn = val_images_blood_cnn.astype('float32')\n",
        "\n",
        "#converting our values from range[0,255] to range[0,1]\n",
        "x_train_blood_cnn /= 255.0\n",
        "x_test_blood_cnn /= 255.0\n",
        "val_images_blood_cnn /= 255.0"
      ]
    },
    {
      "cell_type": "code",
      "execution_count": 10,
      "metadata": {
        "id": "EZsUqz1dg4fN"
      },
      "outputs": [],
      "source": [
        "#Tranforming our data to categorically.\n",
        "y_train_blood_cnn = tf.keras.utils.to_categorical(y_train_blood_cnn, num_classes=8, dtype='float32')\n",
        "y_test_blood_cnn = tf.keras.utils.to_categorical(y_test_blood_cnn, num_classes=8, dtype='float32')"
      ]
    },
    {
      "cell_type": "code",
      "source": [
        "#https://github.com/MedMNIST/MedMNIST/blob/main/medmnist/info.py\n",
        "#labels for blood dataset from the above link\n",
        "class_labels = [\n",
        "    \"basophil\",\n",
        "    \"eosinophil\",\n",
        "    \"erythroblast\",\n",
        "    \"immature granulocytes(myelocytes, metamyelocytes and promyelocytes)\",\n",
        "    \"lymphocyte\",\n",
        "    \"monocyte\",\n",
        "    \"neutrophil\",\n",
        "    \"platelet\"\n",
        "]"
      ],
      "metadata": {
        "id": "Ub_kbMuNiOHI"
      },
      "execution_count": 11,
      "outputs": []
    },
    {
      "cell_type": "code",
      "execution_count": 12,
      "metadata": {
        "colab": {
          "base_uri": "https://localhost:8080/"
        },
        "id": "_yWCTLtrhFjp",
        "outputId": "3a84f512-cc35-47d7-bf24-d6e6ac129f59"
      },
      "outputs": [
        {
          "output_type": "stream",
          "name": "stdout",
          "text": [
            "Model: \"sequential\"\n",
            "_________________________________________________________________\n",
            " Layer (type)                Output Shape              Param #   \n",
            "=================================================================\n",
            " conv2d (Conv2D)             (None, 28, 28, 32)        896       \n",
            "                                                                 \n",
            " conv2d_1 (Conv2D)           (None, 26, 26, 32)        9248      \n",
            "                                                                 \n",
            " max_pooling2d (MaxPooling2D  (None, 13, 13, 32)       0         \n",
            " )                                                               \n",
            "                                                                 \n",
            " dropout (Dropout)           (None, 13, 13, 32)        0         \n",
            "                                                                 \n",
            " conv2d_2 (Conv2D)           (None, 13, 13, 64)        18496     \n",
            "                                                                 \n",
            " conv2d_3 (Conv2D)           (None, 11, 11, 64)        36928     \n",
            "                                                                 \n",
            " max_pooling2d_1 (MaxPooling  (None, 5, 5, 64)         0         \n",
            " 2D)                                                             \n",
            "                                                                 \n",
            " dropout_1 (Dropout)         (None, 5, 5, 64)          0         \n",
            "                                                                 \n",
            " flatten (Flatten)           (None, 1600)              0         \n",
            "                                                                 \n",
            " dense (Dense)               (None, 512)               819712    \n",
            "                                                                 \n",
            " dropout_2 (Dropout)         (None, 512)               0         \n",
            "                                                                 \n",
            " dense_1 (Dense)             (None, 8)                 4104      \n",
            "                                                                 \n",
            "=================================================================\n",
            "Total params: 889,384\n",
            "Trainable params: 889,384\n",
            "Non-trainable params: 0\n",
            "_________________________________________________________________\n"
          ]
        }
      ],
      "source": [
        "#building our Nueral network model\n",
        "network = Sequential()\n",
        "\n",
        "#adding layers to our model\n",
        "network.add(Conv2D(32, (3,3),padding=\"same\",activation=\"relu\", input_shape=(28,28,3)))\n",
        "network.add(Conv2D(32,(3,3),activation = \"relu\"))\n",
        "network.add(MaxPooling2D(pool_size=(2,2)))\n",
        "network.add(Dropout(0.25))\n",
        "\n",
        "network.add(Conv2D(64,(3,3),padding=\"same\",activation=\"relu\"))\n",
        "network.add(Conv2D(64,(3,3),activation=\"relu\"))\n",
        "network.add(MaxPooling2D(pool_size=(2,2)))\n",
        "network.add(Dropout(0.25))\n",
        "\n",
        "network.add(Flatten())\n",
        "network.add(Dense(512, activation = \"relu\"))\n",
        "network.add(Dropout(0.5))\n",
        "network.add(Dense(8, activation=\"softmax\"))\n",
        "\n",
        "#plotting the summary\n",
        "network.summary()"
      ]
    },
    {
      "cell_type": "code",
      "execution_count": 13,
      "metadata": {
        "id": "taerDvmAhWYb"
      },
      "outputs": [],
      "source": [
        "#Compiling our built neural network model to get accuracy and measure loss.\n",
        "network.compile(\n",
        "    loss=\"categorical_crossentropy\",\n",
        "    optimizer=\"adam\",\n",
        "    metrics=[\"accuracy\"]\n",
        "    )"
      ]
    },
    {
      "cell_type": "code",
      "execution_count": 14,
      "metadata": {
        "colab": {
          "base_uri": "https://localhost:8080/"
        },
        "id": "AcIKFNHvs5y3",
        "outputId": "0fe0c3c1-994e-4e49-f634-42d20f90de63"
      },
      "outputs": [
        {
          "output_type": "stream",
          "name": "stderr",
          "text": [
            "/usr/local/lib/python3.9/dist-packages/tensorflow/python/data/ops/structured_function.py:256: UserWarning: Even though the `tf.config.experimental_run_functions_eagerly` option is set, this option does not apply to tf.data functions. To force eager execution of tf.data functions, please use `tf.data.experimental.enable_debug_mode()`.\n",
            "  warnings.warn(\n"
          ]
        },
        {
          "output_type": "stream",
          "name": "stdout",
          "text": [
            "Epoch 1/5\n",
            "374/374 [==============================] - 33s 64ms/step - loss: 1.0250 - accuracy: 0.6064 - val_loss: 0.5651 - val_accuracy: 0.7776\n",
            "Epoch 2/5\n",
            "374/374 [==============================] - 25s 66ms/step - loss: 0.5745 - accuracy: 0.7871 - val_loss: 0.4344 - val_accuracy: 0.8442\n",
            "Epoch 3/5\n",
            "374/374 [==============================] - 25s 66ms/step - loss: 0.4822 - accuracy: 0.8206 - val_loss: 0.4121 - val_accuracy: 0.8568\n",
            "Epoch 4/5\n",
            "374/374 [==============================] - 24s 64ms/step - loss: 0.4232 - accuracy: 0.8469 - val_loss: 0.3814 - val_accuracy: 0.8761\n",
            "Epoch 5/5\n",
            "374/374 [==============================] - 23s 62ms/step - loss: 0.3708 - accuracy: 0.8642 - val_loss: 0.3097 - val_accuracy: 0.8886\n"
          ]
        },
        {
          "output_type": "execute_result",
          "data": {
            "text/plain": [
              "<keras.callbacks.History at 0x7f5052d378b0>"
            ]
          },
          "metadata": {},
          "execution_count": 14
        }
      ],
      "source": [
        "#fitting our neural network model to our dataset.\n",
        "network.fit(\n",
        "    x_train_blood_cnn,\n",
        "    y_train_blood_cnn,\n",
        "    batch_size=32,\n",
        "    epochs=5,\n",
        "    validation_data=(x_test_blood_cnn,y_test_blood_cnn),\n",
        "    shuffle=True\n",
        "    )\n"
      ]
    },
    {
      "cell_type": "code",
      "source": [
        "network.save(\"/content/drive/MyDrive/BLOOD_CNN.h5\")"
      ],
      "metadata": {
        "id": "0CPFGuHeWSmr"
      },
      "execution_count": 15,
      "outputs": []
    },
    {
      "cell_type": "code",
      "source": [
        "#creating our confusion matrix for our dataset \n",
        "y_pred_blood_cnn = network.predict(x_test_blood_cnn) \n",
        "y_pred_blood_cnn = np.argmax(y_pred_blood_cnn, axis=1)\n",
        "y_test_blood_cnn = np.argmax(y_test_blood_cnn, axis=1)\n",
        "cm = confusion_matrix(y_test_blood_cnn, y_pred_blood_cnn)\n",
        "print(cm)"
      ],
      "metadata": {
        "colab": {
          "base_uri": "https://localhost:8080/"
        },
        "id": "R0kXOo0LkC5W",
        "outputId": "9654a5f6-bcd0-4003-d5df-ff9fdeb29586"
      },
      "execution_count": 16,
      "outputs": [
        {
          "output_type": "stream",
          "name": "stdout",
          "text": [
            "107/107 [==============================] - 1s 8ms/step\n",
            "[[196   1   1  19   4  20   3   0]\n",
            " [  4 611   0   0   1   4   4   0]\n",
            " [  3   0 277  14   7   0   7   3]\n",
            " [ 44   1  14 404  18  48  50   0]\n",
            " [  9   0   5  14 213   1   1   0]\n",
            " [ 17   0   1  39   3 223   1   0]\n",
            " [  0   1   2   5   2   2 654   0]\n",
            " [  0   0   7   0   1   0   0 462]]\n"
          ]
        }
      ]
    },
    {
      "cell_type": "code",
      "source": [
        "#Evaluation scores\n",
        "precision = precision_score(y_test_blood_cnn, y_pred_blood_cnn,average = 'macro')\n",
        "accuracy = balanced_accuracy_score(y_test_blood_cnn, y_pred_blood_cnn)\n",
        "recall = recall_score(y_test_blood_cnn, y_pred_blood_cnn,average = 'macro')\n",
        "f1 = f1_score(y_test_blood_cnn, y_pred_blood_cnn,average = 'macro')\n",
        "\n",
        "print(\"The precision score for Blood Dataset CNN Model is: \", precision)\n",
        "print(\"The accuracy score for Blood Dataset CNN Model is: \", accuracy)\n",
        "print(\"The recall score for Blood Dataset CNN Model is: \", recall)\n",
        "print(\"The f1 score for Blood Dataset CNN Model is: \", f1)"
      ],
      "metadata": {
        "colab": {
          "base_uri": "https://localhost:8080/"
        },
        "id": "5lKLx1O8kDpL",
        "outputId": "da28d483-8d15-4da3-d822-25b050f6138d"
      },
      "execution_count": 17,
      "outputs": [
        {
          "output_type": "stream",
          "name": "stdout",
          "text": [
            "The precision score for Blood Dataset CNN Model is:  0.8671412532182816\n",
            "The accuracy score for Blood Dataset CNN Model is:  0.8746988160981811\n",
            "The recall score for Blood Dataset CNN Model is:  0.8746988160981811\n",
            "The f1 score for Blood Dataset CNN Model is:  0.8697749035552642\n"
          ]
        }
      ]
    },
    {
      "cell_type": "code",
      "source": [
        "#Validating our data by passing validation dataset into our trained neural network model\n",
        "for i in range(10):\n",
        "  val_img = val_images_blood_cnn[i]\n",
        "  img = tf.expand_dims(val_img, axis=0)\n",
        "  results = network.predict(img)\n",
        "  single_result = results[0]\n",
        "  most_likely = int(np.argmax(single_result))\n",
        "  class_likely = single_result[most_likely]\n",
        "  class_label = class_labels[most_likely]\n",
        "  print(\"This image is {} - Likelihood: {:2f}\".format(class_label,class_likely))"
      ],
      "metadata": {
        "colab": {
          "base_uri": "https://localhost:8080/"
        },
        "id": "S6EVNYEp2YSf",
        "outputId": "ce81cb91-08f0-45c2-ca71-6dff19b12846"
      },
      "execution_count": 18,
      "outputs": [
        {
          "output_type": "stream",
          "name": "stdout",
          "text": [
            "1/1 [==============================] - 0s 119ms/step\n"
          ]
        },
        {
          "output_type": "stream",
          "name": "stderr",
          "text": [
            "/usr/local/lib/python3.9/dist-packages/tensorflow/python/data/ops/structured_function.py:256: UserWarning: Even though the `tf.config.experimental_run_functions_eagerly` option is set, this option does not apply to tf.data functions. To force eager execution of tf.data functions, please use `tf.data.experimental.enable_debug_mode()`.\n",
            "  warnings.warn(\n"
          ]
        },
        {
          "output_type": "stream",
          "name": "stdout",
          "text": [
            "This image is lymphocyte - Likelihood: 0.735895\n",
            "1/1 [==============================] - 0s 22ms/step\n",
            "This image is basophil - Likelihood: 0.895105\n",
            "1/1 [==============================] - 0s 24ms/step\n",
            "This image is platelet - Likelihood: 0.999713\n",
            "1/1 [==============================] - 0s 26ms/step\n",
            "This image is monocyte - Likelihood: 0.918865\n",
            "1/1 [==============================] - 0s 26ms/step\n",
            "This image is eosinophil - Likelihood: 1.000000\n",
            "1/1 [==============================] - 0s 22ms/step\n",
            "This image is neutrophil - Likelihood: 0.978160\n",
            "1/1 [==============================] - 0s 22ms/step\n",
            "This image is eosinophil - Likelihood: 0.999999\n",
            "1/1 [==============================] - 0s 22ms/step\n",
            "This image is platelet - Likelihood: 0.999999\n",
            "1/1 [==============================] - 0s 22ms/step\n",
            "This image is neutrophil - Likelihood: 0.999926\n",
            "1/1 [==============================] - 0s 25ms/step\n",
            "This image is monocyte - Likelihood: 0.830714\n"
          ]
        }
      ]
    }
  ],
  "metadata": {
    "accelerator": "GPU",
    "colab": {
      "provenance": []
    },
    "gpuClass": "standard",
    "kernelspec": {
      "display_name": "Python 3",
      "name": "python3"
    },
    "language_info": {
      "name": "python"
    }
  },
  "nbformat": 4,
  "nbformat_minor": 0
}